{
 "cells": [
  {
   "cell_type": "markdown",
   "metadata": {},
   "source": [
    "# Using the Yelp API - Codealong\n",
    "\n",
    "## Introduction\n",
    "\n",
    "Now that we've discussed HTTP requests and OAuth, it's time to practice applying those skills to a production level API. In this codealong, we'll take you through the process of signing up for an OAuth token and then using that to make requests to the Yelp API!\n",
    "\n",
    "## Objectives\n",
    "\n",
    "You will be able to:\n",
    "\n",
    "* Generate an OAuth token for the yelp API\n",
    "* Make requests using OAuth"
   ]
  },
  {
   "cell_type": "markdown",
   "metadata": {},
   "source": [
    "## Generating Access Tokens\n",
    "\n",
    "As discussed, in order to use many APIs, one needs to use OAuth which requires an access token. As such, our first step will be to generate this login information so that we can start making some requests.  \n",
    "\n",
    "With that, let's go grab an access token from an API site and make some API calls!\n",
    "Point your browser over to this [yelp page](https://www.yelp.com/developers/v3/manage_app) and start creating an app in order to obtain and api access token:\n",
    "\n",
    "![](./images/yelp_app.png)\n",
    "\n",
    "\n",
    "You can either sign in to an existing Yelp account, or create a new one, if needed.\n",
    "\n",
    "On the page you see above, simply fill out some sample information such as \"Flatiron Edu API Example\" for the app name, or whatever floats your boat. Afterwards, you should be presented with an API key that you can use to make requests!\n",
    "\n",
    "With that, it's time to start making some api calls!"
   ]
  },
  {
   "cell_type": "code",
   "execution_count": 5,
   "metadata": {},
   "outputs": [],
   "source": [
    "import requests"
   ]
  },
  {
   "cell_type": "code",
   "execution_count": 6,
   "metadata": {},
   "outputs": [],
   "source": [
    "#As a general rule of thumb, don't store passwords in a main file like this!\n",
    "#Instead, you would normally store those passwords under a sub file like passwords.py which you would then import.\n",
    "#Or even better, as an environment variable that could then be imported!\n",
    "#For now, we'll simply hardcode them into our notebook for simplicity.\n",
    "client_id = 'cUT1nApSyYJfaEj7aoOYqg'\n",
    "api_key = '-qRE1pkKuBjYIIgE2bNYJK_Juato88GXHSZjzONJE1YbUnhqf2D6cbmf90vZvhx0N2mx3hPt2-yMUT__1OAQ6Tw09rV-OUq_RSJnG7QI-ziuD1wssqyQOvFQRWfcXHYx'"
   ]
  },
  {
   "cell_type": "markdown",
   "metadata": {},
   "source": [
    "## An Example Request with OAuth <a id=\"oauth_request\"></a>\n",
    "https://www.yelp.com/developers/documentation/v3/get_started\n",
    "\n",
    "In the next lesson, we'll further dissect how to read and translate online documentation like the link here. For now, let's simply look at an example request and dissect it into its constituent parts:"
   ]
  },
  {
   "cell_type": "code",
   "execution_count": 7,
   "metadata": {},
   "outputs": [
    {
     "name": "stdout",
     "output_type": "stream",
     "text": [
      "<Response [200]>\n",
      "<class 'str'>\n",
      "{\"businesses\": [{\"id\": \"jzVv_21473lAMYXIhVbuTA\", \"alias\": \"de-mole-astoria-astoria\", \"name\": \"De Mole Astoria\", \"image_url\": \"https://s3-media1.fl.yelpcdn.com/bphoto/zZTTfdIGbQkQQptgQmin1A/o.jpg\", \"is_closed\": false, \"url\": \"https://www.yelp.com/biz/de-mole-astoria-astoria?adjust_creative=cUT1nApSyYJfaEj7aoOYqg&utm_campaign=yelp_api_v3&utm_medium=api_v3_business_search&utm_source=cUT1nApSyYJfaEj7aoOYqg\", \"review_count\": 347, \"categories\": [{\"alias\": \"mexican\", \"title\": \"Mexican\"}], \"rating\": 4.0, \"coordinates\": {\"latitude\": 40.7625999, \"longitude\": -73.9129028}, \"transactions\": [\"pickup\", \"delivery\"], \"price\": \"$$\", \"location\": {\"address1\": \"4220 30th Ave\", \"address2\": \"\", \"address3\": \"\", \"city\": \"Astoria\", \"zip_code\": \"11103\", \"country\": \"US\", \"state\": \"NY\", \"display_address\": [\"4220 30th Ave\", \"Astoria, NY 11103\"]}, \"phone\": \"+17187771655\", \"display_phone\": \"(718) 777-1655\", \"distance\": 918.0927716406379}, {\"id\": \"AUyKmFjpaVLwc3awfUnqgQ\", \"alias\": \"chela-and-garnacha-astoria\", \"name\"\n"
     ]
    }
   ],
   "source": [
    "term = 'Mexican'\n",
    "location = 'Astoria NY'\n",
    "SEARCH_LIMIT = 10\n",
    "\n",
    "url = 'https://api.yelp.com/v3/businesses/search'\n",
    "\n",
    "headers = {\n",
    "        'Authorization': 'Bearer {}'.format(api_key),\n",
    "    }\n",
    "\n",
    "url_params = {\n",
    "                'term': term.replace(' ', '+'),\n",
    "                'location': location.replace(' ', '+'),\n",
    "                'limit': SEARCH_LIMIT\n",
    "            }\n",
    "response = requests.get(url, headers=headers, params=url_params)\n",
    "print(response)\n",
    "print(type(response.text))\n",
    "print(response.text[:1000])"
   ]
  },
  {
   "cell_type": "markdown",
   "metadata": {},
   "source": [
    "## Breaking Down the Request\n",
    "\n",
    "As you can see, there are three main parts to our request.  \n",
    "  \n",
    "They are:\n",
    "* The url\n",
    "* The header\n",
    "* The parameters\n",
    "  \n",
    "The url is fairly straightforward and is simply the base url as described in the documentation (again more details in the upcoming lesson).\n",
    "\n",
    "The header is a dictionary of key-value pairs. In this case, we are using a fairly standard header used by many APIs. It has a strict form where 'Authorization' is the key and 'Bearer YourApiKey' is the value.\n",
    "\n",
    "The parameters are the filters which we wish to pass into the query. These will be embedded into the url when the request is made to the api. Similar to the header, they form key-value pairs. Valid key parameters by which to structure your queries, are described in the API documentation which we'll look at further shortly. A final important note however, is the need to replace spaces with \"+\". This is standard to many requests as URLs cannot contain spaces. (Note that the header itself isn't directly embedded into the url itself and as such, the space between 'Bearer' and YourApiKey is valid.)\n"
   ]
  },
  {
   "cell_type": "markdown",
   "metadata": {},
   "source": [
    "## The Response\n",
    "\n",
    "As before, our response object has both a status code, as well as the data itself. With that, let's start with a little data exploration!"
   ]
  },
  {
   "cell_type": "code",
   "execution_count": 11,
   "metadata": {},
   "outputs": [
    {
     "data": {
      "text/plain": [
       "dict_keys(['businesses', 'total', 'region'])"
      ]
     },
     "execution_count": 11,
     "metadata": {},
     "output_type": "execute_result"
    }
   ],
   "source": [
    "response.json().keys()"
   ]
  },
  {
   "cell_type": "markdown",
   "metadata": {},
   "source": [
    "Now let's go a bit further and start to preview what's stored in each of the values for these keys."
   ]
  },
  {
   "cell_type": "code",
   "execution_count": 14,
   "metadata": {},
   "outputs": [
    {
     "name": "stdout",
     "output_type": "stream",
     "text": [
      "businesses\n",
      "<class 'list'>\n",
      "\n",
      "\n",
      "\n",
      "total\n",
      "<class 'int'>\n",
      "\n",
      "\n",
      "\n",
      "region\n",
      "<class 'dict'>\n",
      "\n",
      "\n",
      "\n"
     ]
    }
   ],
   "source": [
    "for key in response.json().keys():\n",
    "    print(key)\n",
    "    value = response.json()[key] #Use standard dictionary formatting\n",
    "    print(type(value)) #What type is it?\n",
    "    print('\\n\\n') #Separate out data"
   ]
  },
  {
   "cell_type": "markdown",
   "metadata": {},
   "source": [
    "Let's continue to preview these further to get a little better acquainted."
   ]
  },
  {
   "cell_type": "code",
   "execution_count": 15,
   "metadata": {},
   "outputs": [
    {
     "data": {
      "text/plain": [
       "[{'id': 'jzVv_21473lAMYXIhVbuTA',\n",
       "  'alias': 'de-mole-astoria-astoria',\n",
       "  'name': 'De Mole Astoria',\n",
       "  'image_url': 'https://s3-media1.fl.yelpcdn.com/bphoto/zZTTfdIGbQkQQptgQmin1A/o.jpg',\n",
       "  'is_closed': False,\n",
       "  'url': 'https://www.yelp.com/biz/de-mole-astoria-astoria?adjust_creative=cUT1nApSyYJfaEj7aoOYqg&utm_campaign=yelp_api_v3&utm_medium=api_v3_business_search&utm_source=cUT1nApSyYJfaEj7aoOYqg',\n",
       "  'review_count': 347,\n",
       "  'categories': [{'alias': 'mexican', 'title': 'Mexican'}],\n",
       "  'rating': 4.0,\n",
       "  'coordinates': {'latitude': 40.7625999, 'longitude': -73.9129028},\n",
       "  'transactions': ['pickup', 'delivery'],\n",
       "  'price': '$$',\n",
       "  'location': {'address1': '4220 30th Ave',\n",
       "   'address2': '',\n",
       "   'address3': '',\n",
       "   'city': 'Astoria',\n",
       "   'zip_code': '11103',\n",
       "   'country': 'US',\n",
       "   'state': 'NY',\n",
       "   'display_address': ['4220 30th Ave', 'Astoria, NY 11103']},\n",
       "  'phone': '+17187771655',\n",
       "  'display_phone': '(718) 777-1655',\n",
       "  'distance': 918.0927716406379},\n",
       " {'id': 'AUyKmFjpaVLwc3awfUnqgQ',\n",
       "  'alias': 'chela-and-garnacha-astoria',\n",
       "  'name': 'Chela & Garnacha',\n",
       "  'image_url': 'https://s3-media1.fl.yelpcdn.com/bphoto/ChVbA1_xqLHFXL4Iyh84NA/o.jpg',\n",
       "  'is_closed': False,\n",
       "  'url': 'https://www.yelp.com/biz/chela-and-garnacha-astoria?adjust_creative=cUT1nApSyYJfaEj7aoOYqg&utm_campaign=yelp_api_v3&utm_medium=api_v3_business_search&utm_source=cUT1nApSyYJfaEj7aoOYqg',\n",
       "  'review_count': 338,\n",
       "  'categories': [{'alias': 'mexican', 'title': 'Mexican'},\n",
       "   {'alias': 'wine_bars', 'title': 'Wine Bars'},\n",
       "   {'alias': 'breakfast_brunch', 'title': 'Breakfast & Brunch'}],\n",
       "  'rating': 4.5,\n",
       "  'coordinates': {'latitude': 40.7557171543477, 'longitude': -73.927811292412},\n",
       "  'transactions': ['pickup', 'delivery'],\n",
       "  'price': '$$',\n",
       "  'location': {'address1': '33-09 36th Ave',\n",
       "   'address2': '',\n",
       "   'address3': '',\n",
       "   'city': 'Astoria',\n",
       "   'zip_code': '11106',\n",
       "   'country': 'US',\n",
       "   'state': 'NY',\n",
       "   'display_address': ['33-09 36th Ave', 'Astoria, NY 11106']},\n",
       "  'phone': '+19178326876',\n",
       "  'display_phone': '(917) 832-6876',\n",
       "  'distance': 1318.3265473785546}]"
      ]
     },
     "execution_count": 15,
     "metadata": {},
     "output_type": "execute_result"
    }
   ],
   "source": [
    "response.json()['businesses'][:2]"
   ]
  },
  {
   "cell_type": "code",
   "execution_count": 16,
   "metadata": {},
   "outputs": [
    {
     "data": {
      "text/plain": [
       "680"
      ]
     },
     "execution_count": 16,
     "metadata": {},
     "output_type": "execute_result"
    }
   ],
   "source": [
    "response.json()['total']"
   ]
  },
  {
   "cell_type": "code",
   "execution_count": 17,
   "metadata": {},
   "outputs": [
    {
     "data": {
      "text/plain": [
       "{'center': {'longitude': -73.92219543457031, 'latitude': 40.76688875374591}}"
      ]
     },
     "execution_count": 17,
     "metadata": {},
     "output_type": "execute_result"
    }
   ],
   "source": [
    "response.json()['region']"
   ]
  },
  {
   "cell_type": "markdown",
   "metadata": {},
   "source": [
    "As you can see, we're primarily interested in the 'businesses' entry. \n",
    "\n",
    "Let's go ahead and create a dataframe from that."
   ]
  },
  {
   "cell_type": "code",
   "execution_count": 18,
   "metadata": {},
   "outputs": [
    {
     "name": "stdout",
     "output_type": "stream",
     "text": [
      "10\n",
      "Index(['alias', 'categories', 'coordinates', 'display_phone', 'distance', 'id',\n",
      "       'image_url', 'is_closed', 'location', 'name', 'phone', 'price',\n",
      "       'rating', 'review_count', 'transactions', 'url'],\n",
      "      dtype='object')\n"
     ]
    },
    {
     "data": {
      "text/html": [
       "<div>\n",
       "<style scoped>\n",
       "    .dataframe tbody tr th:only-of-type {\n",
       "        vertical-align: middle;\n",
       "    }\n",
       "\n",
       "    .dataframe tbody tr th {\n",
       "        vertical-align: top;\n",
       "    }\n",
       "\n",
       "    .dataframe thead th {\n",
       "        text-align: right;\n",
       "    }\n",
       "</style>\n",
       "<table border=\"1\" class=\"dataframe\">\n",
       "  <thead>\n",
       "    <tr style=\"text-align: right;\">\n",
       "      <th></th>\n",
       "      <th>alias</th>\n",
       "      <th>categories</th>\n",
       "      <th>coordinates</th>\n",
       "      <th>display_phone</th>\n",
       "      <th>distance</th>\n",
       "      <th>id</th>\n",
       "      <th>image_url</th>\n",
       "      <th>is_closed</th>\n",
       "      <th>location</th>\n",
       "      <th>name</th>\n",
       "      <th>phone</th>\n",
       "      <th>price</th>\n",
       "      <th>rating</th>\n",
       "      <th>review_count</th>\n",
       "      <th>transactions</th>\n",
       "      <th>url</th>\n",
       "    </tr>\n",
       "  </thead>\n",
       "  <tbody>\n",
       "    <tr>\n",
       "      <th>0</th>\n",
       "      <td>de-mole-astoria-astoria</td>\n",
       "      <td>[{'alias': 'mexican', 'title': 'Mexican'}]</td>\n",
       "      <td>{'latitude': 40.7625999, 'longitude': -73.9129...</td>\n",
       "      <td>(718) 777-1655</td>\n",
       "      <td>918.092772</td>\n",
       "      <td>jzVv_21473lAMYXIhVbuTA</td>\n",
       "      <td>https://s3-media1.fl.yelpcdn.com/bphoto/zZTTfd...</td>\n",
       "      <td>False</td>\n",
       "      <td>{'address1': '4220 30th Ave', 'address2': '', ...</td>\n",
       "      <td>De Mole Astoria</td>\n",
       "      <td>+17187771655</td>\n",
       "      <td>$$</td>\n",
       "      <td>4.0</td>\n",
       "      <td>347</td>\n",
       "      <td>[pickup, delivery]</td>\n",
       "      <td>https://www.yelp.com/biz/de-mole-astoria-astor...</td>\n",
       "    </tr>\n",
       "    <tr>\n",
       "      <th>1</th>\n",
       "      <td>chela-and-garnacha-astoria</td>\n",
       "      <td>[{'alias': 'mexican', 'title': 'Mexican'}, {'a...</td>\n",
       "      <td>{'latitude': 40.7557171543477, 'longitude': -7...</td>\n",
       "      <td>(917) 832-6876</td>\n",
       "      <td>1318.326547</td>\n",
       "      <td>AUyKmFjpaVLwc3awfUnqgQ</td>\n",
       "      <td>https://s3-media1.fl.yelpcdn.com/bphoto/ChVbA1...</td>\n",
       "      <td>False</td>\n",
       "      <td>{'address1': '33-09 36th Ave', 'address2': '',...</td>\n",
       "      <td>Chela &amp; Garnacha</td>\n",
       "      <td>+19178326876</td>\n",
       "      <td>$$</td>\n",
       "      <td>4.5</td>\n",
       "      <td>338</td>\n",
       "      <td>[pickup, delivery]</td>\n",
       "      <td>https://www.yelp.com/biz/chela-and-garnacha-as...</td>\n",
       "    </tr>\n",
       "    <tr>\n",
       "      <th>2</th>\n",
       "      <td>mi-espiguita-taqueria-astoria</td>\n",
       "      <td>[{'alias': 'mexican', 'title': 'Mexican'}]</td>\n",
       "      <td>{'latitude': 40.7612033639422, 'longitude': -7...</td>\n",
       "      <td>(718) 777-5648</td>\n",
       "      <td>714.301080</td>\n",
       "      <td>yvva7IYpD6J7OfKlCdQrkw</td>\n",
       "      <td>https://s3-media2.fl.yelpcdn.com/bphoto/TEho39...</td>\n",
       "      <td>False</td>\n",
       "      <td>{'address1': '32-44 31st St', 'address2': '', ...</td>\n",
       "      <td>Mi Espiguita Taqueria</td>\n",
       "      <td>+17187775648</td>\n",
       "      <td>$</td>\n",
       "      <td>4.5</td>\n",
       "      <td>109</td>\n",
       "      <td>[pickup, delivery]</td>\n",
       "      <td>https://www.yelp.com/biz/mi-espiguita-taqueria...</td>\n",
       "    </tr>\n",
       "    <tr>\n",
       "      <th>3</th>\n",
       "      <td>frescos-cantina-long-island-city</td>\n",
       "      <td>[{'alias': 'mexican', 'title': 'Mexican'}, {'a...</td>\n",
       "      <td>{'latitude': 40.76837, 'longitude': -73.93303}</td>\n",
       "      <td>(347) 808-7338</td>\n",
       "      <td>927.218713</td>\n",
       "      <td>zNcDCPiUsE5aT6jyaCVtmA</td>\n",
       "      <td>https://s3-media2.fl.yelpcdn.com/bphoto/3IdlTT...</td>\n",
       "      <td>False</td>\n",
       "      <td>{'address1': '12-14 31st Ave', 'address2': Non...</td>\n",
       "      <td>Fresco's Cantina</td>\n",
       "      <td>+13478087338</td>\n",
       "      <td>$$</td>\n",
       "      <td>4.5</td>\n",
       "      <td>173</td>\n",
       "      <td>[pickup, restaurant_reservation, delivery]</td>\n",
       "      <td>https://www.yelp.com/biz/frescos-cantina-long-...</td>\n",
       "    </tr>\n",
       "    <tr>\n",
       "      <th>4</th>\n",
       "      <td>el-mero-mero-long-island-city</td>\n",
       "      <td>[{'alias': 'mexican', 'title': 'Mexican'}]</td>\n",
       "      <td>{'latitude': 40.753834323302, 'longitude': -73...</td>\n",
       "      <td>(718) 392-2444</td>\n",
       "      <td>1457.114073</td>\n",
       "      <td>anBWvFPOce4nl3qLX-H6Rg</td>\n",
       "      <td>https://s3-media2.fl.yelpcdn.com/bphoto/7tp30k...</td>\n",
       "      <td>False</td>\n",
       "      <td>{'address1': '35-57 38th St', 'address2': '', ...</td>\n",
       "      <td>El Mero Mero</td>\n",
       "      <td>+17183922444</td>\n",
       "      <td>$$</td>\n",
       "      <td>4.5</td>\n",
       "      <td>59</td>\n",
       "      <td>[pickup, delivery]</td>\n",
       "      <td>https://www.yelp.com/biz/el-mero-mero-long-isl...</td>\n",
       "    </tr>\n",
       "  </tbody>\n",
       "</table>\n",
       "</div>"
      ],
      "text/plain": [
       "                              alias  \\\n",
       "0           de-mole-astoria-astoria   \n",
       "1        chela-and-garnacha-astoria   \n",
       "2     mi-espiguita-taqueria-astoria   \n",
       "3  frescos-cantina-long-island-city   \n",
       "4     el-mero-mero-long-island-city   \n",
       "\n",
       "                                          categories  \\\n",
       "0         [{'alias': 'mexican', 'title': 'Mexican'}]   \n",
       "1  [{'alias': 'mexican', 'title': 'Mexican'}, {'a...   \n",
       "2         [{'alias': 'mexican', 'title': 'Mexican'}]   \n",
       "3  [{'alias': 'mexican', 'title': 'Mexican'}, {'a...   \n",
       "4         [{'alias': 'mexican', 'title': 'Mexican'}]   \n",
       "\n",
       "                                         coordinates   display_phone  \\\n",
       "0  {'latitude': 40.7625999, 'longitude': -73.9129...  (718) 777-1655   \n",
       "1  {'latitude': 40.7557171543477, 'longitude': -7...  (917) 832-6876   \n",
       "2  {'latitude': 40.7612033639422, 'longitude': -7...  (718) 777-5648   \n",
       "3     {'latitude': 40.76837, 'longitude': -73.93303}  (347) 808-7338   \n",
       "4  {'latitude': 40.753834323302, 'longitude': -73...  (718) 392-2444   \n",
       "\n",
       "      distance                      id  \\\n",
       "0   918.092772  jzVv_21473lAMYXIhVbuTA   \n",
       "1  1318.326547  AUyKmFjpaVLwc3awfUnqgQ   \n",
       "2   714.301080  yvva7IYpD6J7OfKlCdQrkw   \n",
       "3   927.218713  zNcDCPiUsE5aT6jyaCVtmA   \n",
       "4  1457.114073  anBWvFPOce4nl3qLX-H6Rg   \n",
       "\n",
       "                                           image_url  is_closed  \\\n",
       "0  https://s3-media1.fl.yelpcdn.com/bphoto/zZTTfd...      False   \n",
       "1  https://s3-media1.fl.yelpcdn.com/bphoto/ChVbA1...      False   \n",
       "2  https://s3-media2.fl.yelpcdn.com/bphoto/TEho39...      False   \n",
       "3  https://s3-media2.fl.yelpcdn.com/bphoto/3IdlTT...      False   \n",
       "4  https://s3-media2.fl.yelpcdn.com/bphoto/7tp30k...      False   \n",
       "\n",
       "                                            location                   name  \\\n",
       "0  {'address1': '4220 30th Ave', 'address2': '', ...        De Mole Astoria   \n",
       "1  {'address1': '33-09 36th Ave', 'address2': '',...       Chela & Garnacha   \n",
       "2  {'address1': '32-44 31st St', 'address2': '', ...  Mi Espiguita Taqueria   \n",
       "3  {'address1': '12-14 31st Ave', 'address2': Non...       Fresco's Cantina   \n",
       "4  {'address1': '35-57 38th St', 'address2': '', ...           El Mero Mero   \n",
       "\n",
       "          phone price  rating  review_count  \\\n",
       "0  +17187771655    $$     4.0           347   \n",
       "1  +19178326876    $$     4.5           338   \n",
       "2  +17187775648     $     4.5           109   \n",
       "3  +13478087338    $$     4.5           173   \n",
       "4  +17183922444    $$     4.5            59   \n",
       "\n",
       "                                 transactions  \\\n",
       "0                          [pickup, delivery]   \n",
       "1                          [pickup, delivery]   \n",
       "2                          [pickup, delivery]   \n",
       "3  [pickup, restaurant_reservation, delivery]   \n",
       "4                          [pickup, delivery]   \n",
       "\n",
       "                                                 url  \n",
       "0  https://www.yelp.com/biz/de-mole-astoria-astor...  \n",
       "1  https://www.yelp.com/biz/chela-and-garnacha-as...  \n",
       "2  https://www.yelp.com/biz/mi-espiguita-taqueria...  \n",
       "3  https://www.yelp.com/biz/frescos-cantina-long-...  \n",
       "4  https://www.yelp.com/biz/el-mero-mero-long-isl...  "
      ]
     },
     "execution_count": 18,
     "metadata": {},
     "output_type": "execute_result"
    }
   ],
   "source": [
    "import pandas as pd\n",
    "\n",
    "df = pd.DataFrame.from_dict(response.json()['businesses'])\n",
    "print(len(df)) #Print how many rows\n",
    "print(df.columns) #Print column names\n",
    "df.head() #Previews the first five rows. \n",
    "#You could also write df.head(10) to preview 10 rows or df.tail() to see the bottom"
   ]
  },
  {
   "cell_type": "markdown",
   "metadata": {},
   "source": [
    "## Summary <a id=\"sum\"></a>\n",
    "\n",
    "Congratulations! We've covered a lot here! We took some of your previous knowledge with HTTP requests and OAuth in order to leverage an enterprise API! Then we made some requests to retrieve information that came back as a json format. We then transformed this data into a dataframe using the Pandas package. In the next lab, we'll break down how to read API documentation and then put it all together to make a nifty map!"
   ]
  }
 ],
 "metadata": {
  "kernelspec": {
   "display_name": "Python 3",
   "language": "python",
   "name": "python3"
  },
  "language_info": {
   "codemirror_mode": {
    "name": "ipython",
    "version": 3
   },
   "file_extension": ".py",
   "mimetype": "text/x-python",
   "name": "python",
   "nbconvert_exporter": "python",
   "pygments_lexer": "ipython3",
   "version": "3.6.6"
  }
 },
 "nbformat": 4,
 "nbformat_minor": 2
}
